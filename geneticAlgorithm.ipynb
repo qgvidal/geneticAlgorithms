{
 "cells": [
  {
   "cell_type": "markdown",
   "metadata": {},
   "source": [
    "# GENETIC ALGORITHM"
   ]
  },
  {
   "cell_type": "markdown",
   "metadata": {},
   "source": [
    "In this exercise has been developed a genetic algorithm based on next indications:\n",
    "   - Starting from a group of 10 numbers (from 1 to 10), we should create two groups with 5 different numbers, so the numbers of the first group cannot appear in the second one. \n",
    "   - Also, the sum of the first group must be 36 and the product of the second group must be 360"
   ]
  },
  {
   "cell_type": "markdown",
   "metadata": {},
   "source": [
    "First thing is importing the libraries we will use: random (numpy random number generator can be used too) and numpy package"
   ]
  },
  {
   "cell_type": "code",
   "execution_count": 1,
   "metadata": {},
   "outputs": [],
   "source": [
    "import random \n",
    "import numpy as np"
   ]
  },
  {
   "cell_type": "markdown",
   "metadata": {},
   "source": [
    "Next step is defining variables the user can be change according the exercise specifications:"
   ]
  },
  {
   "cell_type": "code",
   "execution_count": 2,
   "metadata": {},
   "outputs": [],
   "source": [
    "valor_suma = 36\n",
    "valor_producto = 360\n",
    "longitud_poblacion = 50\n",
    "numero_iteraciones = 10000"
   ]
  },
  {
   "cell_type": "markdown",
   "metadata": {},
   "source": [
    "### INITIAL POPULATION"
   ]
  },
  {
   "cell_type": "markdown",
   "metadata": {},
   "source": [
    "Now is time to define the functions we will be using in the main flux of the algorithm. First step is defining a function for creating iniitial population. \n",
    "\n",
    "The return of this function will be two lists. First one for calculating the sum and second one for calculating the product. Each of them, of course, with unique numbers:"
   ]
  },
  {
   "cell_type": "code",
   "execution_count": 3,
   "metadata": {},
   "outputs": [],
   "source": [
    "vector = np.array([1,2,3,4,5,6,7,8,9,10])\n",
    "numero_muestras = np.arange(0,longitud_poblacion)\n",
    "\n",
    "def poblacion_inicial(n_muestra):\n",
    "    \n",
    "    poblacion_suma =[]\n",
    "    poblacion_producto = []\n",
    "\n",
    "    for i in n_muestra:\n",
    "        list_suma =[]\n",
    "        list_product =[]\n",
    "        \n",
    "        while len(list_product)<5 or len(list_suma)<5:\n",
    "            \n",
    "            number = random.randint(0,9)\n",
    "            random_assign = random.randint(0,1)\n",
    "            \n",
    "            if vector[number] not in list_suma and vector[number] not in list_product:\n",
    "                \n",
    "                if random_assign == 1 and len(list_suma)<5 and vector[number] not in list_suma:\n",
    "                    list_suma.append(vector[number])\n",
    "                if random_assign == 0 and len(list_product)<5 and vector[number] not in list_product:\n",
    "                    list_product.append(vector[number])\n",
    "        \n",
    "        poblacion_suma.append(np.array(list_suma))   \n",
    "        poblacion_producto.append(np.array(list_product)) \n",
    "    \n",
    "    return poblacion_suma, poblacion_producto"
   ]
  },
  {
   "cell_type": "markdown",
   "metadata": {},
   "source": [
    "### FITNESS FUNCTION"
   ]
  },
  {
   "cell_type": "markdown",
   "metadata": {},
   "source": [
    "Once we have designed or initial population function, we will create our fitness function. That is, a way of measuring the error of the model. In this case the error will be given the sum of sum error and product error, calculated each of them as the difference between between the true value (product or sum) and value we have gotten (product or sum) in the actual iteration:"
   ]
  },
  {
   "cell_type": "code",
   "execution_count": 4,
   "metadata": {},
   "outputs": [],
   "source": [
    "def calculo_fitness(numero_muestras,poblacion_suma,poblacion_producto,valor_suma,valor_producto):    \n",
    "    \n",
    "    fitness_error = []\n",
    "    \n",
    "    for i in numero_muestras:\n",
    "        fitness_suma = abs(valor_suma-np.sum(poblacion_suma[i]))\n",
    "        fitness_producto = abs(valor_producto-np.product(poblacion_producto[i]))\n",
    "        \n",
    "        fitness_error.append(fitness_suma+fitness_producto)\n",
    "        \n",
    "    \n",
    "    #reordenar listas fitness_suma y fitness_producto: \n",
    "    \n",
    "    index_order=sorted(range(len(fitness_error)),key=fitness_error.__getitem__)\n",
    "    lista_suma_ordenada=[poblacion_suma[i] for i in index_order]\n",
    "    lista_product_ordenada=[poblacion_producto[i] for i in index_order]\n",
    "    \n",
    "    return lista_suma_ordenada, lista_product_ordenada, fitness_error[index_order[0]]"
   ]
  },
  {
   "cell_type": "markdown",
   "metadata": {},
   "source": [
    "### MUTATION"
   ]
  },
  {
   "cell_type": "markdown",
   "metadata": {},
   "source": [
    "Last step is the mutation step. In this case, given the problem specification where the numbers cannot be repeated we have decided to define the mutation process as a random permutation between two numbers, one for each list: product and sum."
   ]
  },
  {
   "cell_type": "code",
   "execution_count": 5,
   "metadata": {},
   "outputs": [],
   "source": [
    "def mutacion(lista_product_ordenada, lista_suma_ordenada):\n",
    "    \n",
    "    mutacion_product = []\n",
    "    mutacion_suma = []\n",
    "    \n",
    "    for i in range(0,5):\n",
    "        \n",
    "        #obtención aleatoria de las dos posiciones posiciones a mutar: \n",
    "        \n",
    "        mutacion_cruce_1 = random.randint(0,4)\n",
    "        mutacion_cruce_2 = random.randint(0,4)\n",
    "        \n",
    "        \n",
    "        #obtención\n",
    "        valor_producto_1 = lista_product_ordenada[i][mutacion_cruce_1]\n",
    "        valor_suma_1 = lista_suma_ordenada[i][mutacion_cruce_1]\n",
    "        \n",
    "        valor_producto_2 = lista_product_ordenada[i][mutacion_cruce_2]\n",
    "        valor_suma_2 = lista_suma_ordenada[i][mutacion_cruce_2]    \n",
    "        \n",
    "        \n",
    "        valor_product_ordenada = lista_product_ordenada[i]\n",
    "        valor_suma_ordenada = lista_suma_ordenada[i]\n",
    "        \n",
    "        \n",
    "        \n",
    "        valor_product_ordenada[mutacion_cruce_1] = valor_suma_1\n",
    "        valor_suma_ordenada[mutacion_cruce_1] = valor_producto_1\n",
    "        \n",
    "        valor_product_ordenada[mutacion_cruce_2] = valor_suma_2\n",
    "        valor_suma_ordenada[mutacion_cruce_2] = valor_producto_2\n",
    "        \n",
    "        mutacion_product.append(valor_product_ordenada)\n",
    "        mutacion_suma.append(valor_suma_ordenada)\n",
    "        \n",
    "\n",
    "\n",
    "    lista_suma_ordenada=lista_suma_ordenada[0:45] +mutacion_suma\n",
    "    lista_product_ordenada=lista_product_ordenada[0:45]+mutacion_product \n",
    "    \n",
    "    return lista_suma_ordenada, lista_product_ordenada"
   ]
  },
  {
   "cell_type": "markdown",
   "metadata": {},
   "source": [
    "### MAIN CODE FOR EXECUTION CONTROL"
   ]
  },
  {
   "cell_type": "markdown",
   "metadata": {},
   "source": [
    "Finally, we should create a main function for controling the flux process. In this case, the end of the execution will be both, a number of iterations given or the convergence of the problem (that is, getting the correct sum and product numbers)"
   ]
  },
  {
   "cell_type": "code",
   "execution_count": 6,
   "metadata": {},
   "outputs": [],
   "source": [
    "def main(n_iteracion,n_muestra,val_sum,val_prod):\n",
    "    \n",
    "    iteraciones = 0\n",
    "    pob_suma, pob_producto = poblacion_inicial(n_muestra)\n",
    "    \n",
    "    while iteraciones< n_iteracion:\n",
    "        \n",
    "        suma_ordenada,product_ordenado,error_fitness = calculo_fitness(n_muestra,pob_suma,pob_producto,\n",
    "                                                                      val_sum,val_prod)\n",
    "        if error_fitness == 0:\n",
    "            resul_suma = suma_ordenada[0]\n",
    "            resul_producto = product_ordenado[0]\n",
    "            break\n",
    "        \n",
    "        resul_suma = suma_ordenada[0]\n",
    "        resul_producto = product_ordenado[0]\n",
    "\n",
    "        pobl_producto,pobl_suma = mutacion(product_ordenado, suma_ordenada)\n",
    " \n",
    "        iteraciones=iteraciones+1\n",
    "    \n",
    "    return resul_suma, resul_producto\n",
    "\n",
    "optimo_suma, optimo_producto = main(numero_iteraciones, numero_muestras,valor_suma,valor_producto)"
   ]
  },
  {
   "cell_type": "code",
   "execution_count": 7,
   "metadata": {},
   "outputs": [
    {
     "name": "stdout",
     "output_type": "stream",
     "text": [
      "Optimal SUM number: [ 6  4  7  3 10] that sum 30\n",
      "Optimal PRODUCT number: [5 1 8 2 9] that results in a product of 720\n"
     ]
    }
   ],
   "source": [
    "print(f\"Optimal SUM number: {optimo_suma} that sum {np.sum(optimo_suma)}\")\n",
    "print(f\"Optimal PRODUCT number: {optimo_producto} that results in a product of {np.prod(optimo_producto)}\")"
   ]
  },
  {
   "cell_type": "code",
   "execution_count": null,
   "metadata": {},
   "outputs": [],
   "source": []
  }
 ],
 "metadata": {
  "kernelspec": {
   "display_name": "Python 3",
   "language": "python",
   "name": "python3"
  },
  "language_info": {
   "codemirror_mode": {
    "name": "ipython",
    "version": 3
   },
   "file_extension": ".py",
   "mimetype": "text/x-python",
   "name": "python",
   "nbconvert_exporter": "python",
   "pygments_lexer": "ipython3",
   "version": "3.7.3"
  }
 },
 "nbformat": 4,
 "nbformat_minor": 2
}
